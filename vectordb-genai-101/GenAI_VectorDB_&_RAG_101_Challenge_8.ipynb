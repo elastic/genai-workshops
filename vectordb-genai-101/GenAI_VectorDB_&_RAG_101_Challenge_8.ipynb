{
  "nbformat": 4,
  "nbformat_minor": 0,
  "metadata": {
    "colab": {
      "provenance": []
    },
    "kernelspec": {
      "name": "python3",
      "display_name": "Python 3"
    },
    "language_info": {
      "name": "python"
    }
  },
  "cells": [
    {
      "cell_type": "markdown",
      "source": [],
      "metadata": {
        "id": "bW9q8qD_bPhY"
      }
    },
    {
      "cell_type": "markdown",
      "source": [
        "# Setup"
      ],
      "metadata": {
        "id": "BecBOzyDbWik"
      }
    },
    {
      "cell_type": "markdown",
      "source": [
        "These should already be installed in your notebook environment.\n",
        "You can uncomment and run if needed"
      ],
      "metadata": {
        "id": "6ayhDP72bZAe"
      }
    },
    {
      "cell_type": "code",
      "execution_count": null,
      "metadata": {
        "id": "2Xz9uWQFbNkH"
      },
      "outputs": [],
      "source": [
        "#!pip install -qU elasticsearch\n",
        "#!pip install -qU eland[pytorch]"
      ]
    },
    {
      "cell_type": "markdown",
      "source": [
        "Import the required python libraries"
      ],
      "metadata": {
        "id": "LgHQaJh0bmJQ"
      }
    },
    {
      "cell_type": "code",
      "source": [
        "import os\n",
        "from elasticsearch import Elasticsearch, helpers, exceptions\n",
        "from urllib.request import urlopen\n",
        "from getpass import getpass\n",
        "import json\n",
        "import time"
      ],
      "metadata": {
        "id": "CsL466H0bjNX"
      },
      "execution_count": null,
      "outputs": []
    },
    {
      "cell_type": "markdown",
      "source": [
        "Create an Elasticsearch Python client"
      ],
      "metadata": {
        "id": "gsQ4XIpkbpd4"
      }
    },
    {
      "cell_type": "code",
      "source": [
        "es = Elasticsearch(\n",
        "    hosts = [\"http://kubernetes-vm:9200\"],\n",
        "    basic_auth=(\"elastic\", \"changeme\")\n",
        ")"
      ],
      "metadata": {
        "id": "P8Pf-lDepKdv"
      },
      "execution_count": null,
      "outputs": []
    },
    {
      "cell_type": "markdown",
      "source": [
        "# Upload Hugging Face model with Eland"
      ],
      "metadata": {
        "id": "5bsLLnqCfNKk"
      }
    },
    {
      "cell_type": "markdown",
      "source": [
        "Use Eland's `eland_import_hub_model` command to upload the model to Elasticsearch.\n",
        "\n",
        "For this example we've chosen the [`cross-encoder/ms-marco-MiniLM-L-6-v2`](https://huggingface.co/cross-encoder/ms-marco-MiniLM-L-6-v2) text similarity model."
      ],
      "metadata": {
        "id": "jptAAe4dfaah"
      }
    },
    {
      "cell_type": "code",
      "source": [
        "MODEL_ID = \"cross-encoder/ms-marco-MiniLM-L-6-v2\"\n",
        "\n",
        "!eland_import_hub_model \\\n",
        "  --url \"http://kubernetes-vm:9200\" \\\n",
        "  -u \"elastic\" \\\n",
        "  -p \"changeme\" \\\n",
        "  --hub-model-id $MODEL_ID \\\n",
        "  --task-type text_similarity"
      ],
      "metadata": {
        "id": "J2MTEYrUfk9R"
      },
      "execution_count": null,
      "outputs": []
    },
    {
      "cell_type": "markdown",
      "source": [
        "# Create Inference Endpoint\n",
        "We need to create an endpoint queries can use for reranking"
      ],
      "metadata": {
        "id": "-rrQV6SAgWz8"
      }
    },
    {
      "cell_type": "code",
      "source": [
        "model_config = {\n",
        "  \"service\": \"elasticsearch\",\n",
        "  \"service_settings\": {\n",
        "    \"num_allocations\": 1,\n",
        "    \"num_threads\": 1,\n",
        "    \"model_id\": \"cross-encoder__ms-marco-minilm-l-6-v2\"\n",
        "  },\n",
        "      \"task_settings\": {\n",
        "        \"return_documents\": True\n",
        "    }\n",
        "}\n",
        "\n",
        "inference_id = \"semantic-reranking\"\n",
        "\n",
        "create_endpoint = es.inference.put(\n",
        "    inference_id=inference_id,\n",
        "    task_type=\"rerank\",\n",
        "    body=model_config\n",
        ")\n",
        "\n",
        "create_endpoint.body"
      ],
      "metadata": {
        "id": "Abu084BYgWCE"
      },
      "execution_count": null,
      "outputs": []
    },
    {
      "cell_type": "markdown",
      "source": [
        "Verify it was created\n",
        "\n",
        "You should see JSON output with information about the semantic endpoint"
      ],
      "metadata": {
        "id": "X8rQXMrHhMkS"
      }
    },
    {
      "cell_type": "code",
      "source": [
        "check_endpoint = es.inference.get(\n",
        "    inference_id=inference_id,\n",
        ")\n",
        "\n",
        "check_endpoint.body"
      ],
      "metadata": {
        "id": "n3Yk7rgYhP-N"
      },
      "execution_count": null,
      "outputs": []
    },
    {
      "cell_type": "markdown",
      "source": [
        "Verify the model was successfully deployed\n",
        "\n",
        "The cell below should return 'started'\n",
        "\n",
        "\n"
      ],
      "metadata": {
        "id": "6dqYN5B4gI7v"
      }
    },
    {
      "cell_type": "code",
      "source": [
        "ES_MODEL_ID = \"cross-encoder__ms-marco-minilm-l-6-v2\"\n",
        "\n",
        "model_info = es.ml.get_trained_models_stats(model_id=ES_MODEL_ID)\n",
        "\n",
        "model_info.body['trained_model_stats'][0]['deployment_stats']['nodes'][0]['routing_state']['routing_state']"
      ],
      "metadata": {
        "id": "tui0K4JIgNmf"
      },
      "execution_count": null,
      "outputs": []
    },
    {
      "cell_type": "markdown",
      "source": [
        "# Query with Reranking"
      ],
      "metadata": {
        "id": "2bwvzLfRjJ2n"
      }
    },
    {
      "cell_type": "code",
      "source": [
        "USER_QUESTION = \"Where can I get good pizza?\"\n",
        "\n",
        "response = es.search(\n",
        "    index=\"restaurant_reviews\",\n",
        "    body={\n",
        "      \"retriever\": {\n",
        "    \"text_similarity_reranker\": {\n",
        "      \"retriever\": {\n",
        "        \"standard\": {\n",
        "          \"query\": {\n",
        "            \"nested\": {\n",
        "              \"path\": \"semantic_body.inference.chunks\",\n",
        "              \"query\": {\n",
        "                \"sparse_vector\": {\n",
        "                  \"inference_id\": \"my-elser-endpoint\",\n",
        "                  \"field\": \"semantic_body.inference.chunks.embeddings\",\n",
        "                  \"query\": USER_QUESTION\n",
        "                }\n",
        "              },\n",
        "              \"inner_hits\": {\n",
        "                \"size\": 2,\n",
        "                \"name\": \"restaurant_reviews.semantic_body\",\n",
        "                \"_source\": [\n",
        "                  \"semantic_body.inference.chunks.text\"\n",
        "                ]\n",
        "              }\n",
        "            }\n",
        "          }\n",
        "        }\n",
        "      },\n",
        "      \"field\": \"Review\",\n",
        "      \"inference_id\": \"semantic-reranking\",\n",
        "      \"inference_text\": USER_QUESTION,\n",
        "      \"rank_window_size\": 50\n",
        "    }\n",
        "  }\n",
        "    }\n",
        ")\n",
        "\n",
        "response.raw"
      ],
      "metadata": {
        "id": "HWXQBS35jQ3n"
      },
      "execution_count": null,
      "outputs": []
    },
    {
      "cell_type": "markdown",
      "source": [
        "Print out the formatted response"
      ],
      "metadata": {
        "id": "A0HyNZoWyeun"
      }
    },
    {
      "cell_type": "code",
      "source": [
        "for review in response.raw['hits']['hits']:\n",
        "    print(f\"Restaurant {review['_source']['Restaurant']} - Rating: {review['_source']['Rating']} - Reviewer: {review['_source']['Reviewer']}\")\n"
      ],
      "metadata": {
        "id": "4ZEx-46rn3in"
      },
      "execution_count": null,
      "outputs": []
    }
  ]
}