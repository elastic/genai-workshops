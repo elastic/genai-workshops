{
  "cells": [
    {
      "cell_type": "markdown",
      "metadata": {
        "id": "bW9q8qD_bPhY"
      },
      "source": [
        "**Locally Hosted Semantic Reranker**"
      ]
    },
    {
      "cell_type": "markdown",
      "metadata": {
        "id": "Mf09mgBb5Bb9"
      },
      "source": [
        "# Objectives\n",
        "\n",
        "In this challenge you will:\n",
        "- Learn how to load a semantic reranker into Elasticsearch with Eland\n",
        "- Create a reranker inference API\n",
        "- Modify the query to use the reranker as part of the query to gather contextual documents"
      ]
    },
    {
      "cell_type": "markdown",
      "metadata": {
        "id": "hn5LrtoIrzBs"
      },
      "source": [
        "## If this is your first time using Jupyter notebook:\n",
        "\n",
        "<img src=\"https://play.instruqt.com/assets/tracks/xh4efwjkleh1/9de47748dceadc1b6546908519ea4ba6/assets/CleanShot%202024-09-12%20at%2014.06.51%402x.png\" width=\"150\"/>\n",
        "Click the small play icon to the left of the cell<br>\n",
        "\n",
        "<img src=\"https://play.instruqt.com/assets/tracks/xh4efwjkleh1/f7949234f997ba39ff8879304648efaa/assets/CleanShot%202024-09-12%20at%2014.07.22%402x.png\" width=\"150\"/>\n",
        "If the cell runs successfully you will see a green check markt at the bottom left in the cell<br>\n",
        "\n",
        "<img src=\"https://play.instruqt.com/assets/tracks/xh4efwjkleh1/0fd068121e9d48f13b49d8e02a21fe42/assets/CleanShot%202024-09-12%20at%2014.09.32%402x.png\" width=\"150\"/>\n",
        "If there is an error, you will see a red x and may see error output below"
      ]
    },
    {
      "cell_type": "markdown",
      "metadata": {
        "id": "BecBOzyDbWik"
      },
      "source": [
        "# Setup\n",
        "\n",
        "Run the cells in this section to:\n",
        "- Import the required libraries\n",
        "- Create an elasticsearch python client connection\n"
      ]
    },
    {
      "cell_type": "markdown",
      "metadata": {
        "id": "6ayhDP72bZAe"
      },
      "source": [
        "These should already be installed in your notebook environment.\n",
        "You can uncomment and run if needed"
      ]
    },
    {
      "cell_type": "code",
      "execution_count": null,
      "metadata": {
        "id": "2Xz9uWQFbNkH"
      },
      "outputs": [],
      "source": [
        "#!pip install -qU elasticsearch\n",
        "#!pip install -qU eland[pytorch]"
      ]
    },
    {
      "cell_type": "markdown",
      "metadata": {
        "id": "LgHQaJh0bmJQ"
      },
      "source": [
        "Import the required python libraries"
      ]
    },
    {
      "cell_type": "code",
      "execution_count": null,
      "metadata": {
        "id": "CsL466H0bjNX"
      },
      "outputs": [],
      "source": [
        "import os\n",
        "from elasticsearch import Elasticsearch, helpers, exceptions\n",
        "from urllib.request import urlopen\n",
        "from getpass import getpass\n",
        "import json\n",
        "import time"
      ]
    },
    {
      "cell_type": "markdown",
      "metadata": {
        "id": "gsQ4XIpkbpd4"
      },
      "source": [
        "Create an Elasticsearch Python client"
      ]
    },
    {
      "cell_type": "code",
      "execution_count": null,
      "metadata": {
        "id": "P8Pf-lDepKdv"
      },
      "outputs": [],
      "source": [
        "es = Elasticsearch(\n",
        "    hosts = [\"http://kubernetes-vm:9200\"],\n",
        "    basic_auth=(\"elastic\", \"changeme\")\n",
        ")"
      ]
    },
    {
      "cell_type": "markdown",
      "metadata": {
        "id": "5bsLLnqCfNKk"
      },
      "source": [
        "# Upload Hugging Face model with Eland\n",
        "Run this cell to:\n",
        "- Upload the model from Hugging Face to Elasticsearch\n",
        "- Use Eland's `eland_import_hub_model` command to upload the model to Elasticsearch.\n",
        "\n",
        "For this example we've chosen the [`cross-encoder/ms-marco-MiniLM-L-6-v2`](https://huggingface.co/cross-encoder/ms-marco-MiniLM-L-6-v2) text similarity model.\n",
        "<br><br>\n",
        "**Note**:\n",
        "While we are importing the model for use as a reranker, Eland and Elasticsearch do not have a dedicated rerank task type, so we still use `text_similarity`"
      ]
    },
    {
      "cell_type": "code",
      "execution_count": null,
      "metadata": {
        "id": "J2MTEYrUfk9R"
      },
      "outputs": [],
      "source": [
        "MODEL_ID = \"cross-encoder/ms-marco-MiniLM-L-6-v2\"\n",
        "\n",
        "!eland_import_hub_model \\\n",
        "  --url \"http://kubernetes-vm:9200\" \\\n",
        "  -u \"elastic\" \\\n",
        "  -p \"changeme\" \\\n",
        "  --hub-model-id $MODEL_ID \\\n",
        "  --task-type text_similarity"
      ]
    }
  ],
  "metadata": {
    "colab": {
      "provenance": [],
      "toc_visible": true
    },
    "kernelspec": {
      "display_name": ".venv",
      "language": "python",
      "name": "python3"
    },
    "language_info": {
      "name": "python",
      "version": "3.11.3"
    }
  },
  "nbformat": 4,
  "nbformat_minor": 0
}
